{
 "cells": [
  {
   "cell_type": "markdown",
   "metadata": {},
   "source": [
    "<center>\n",
    "<img src=\"../../img/ods_stickers.jpg\">\n",
    "## Открытый курс по машинному обучению. Сессия № 3\n",
    "</center>\n",
    "Авторы материала: аспирант Мехмата МГУ Евгений Колмаков, программист-исследователь Mail.ru Group Юрий Кашницкий. Материал распространяется на условиях лицензии [Creative Commons CC BY-NC-SA 4.0](https://creativecommons.org/licenses/by-nc-sa/4.0/). Можно использовать в любых целях (редактировать, поправлять и брать за основу), кроме коммерческих, но с обязательным упоминанием автора материала."
   ]
  },
  {
   "cell_type": "markdown",
   "metadata": {},
   "source": [
    "# <center>Домашнее задание № 3. Опциональная часть \n",
    "## <center> Реализация алгоритма построения дерева решений"
   ]
  },
  {
   "cell_type": "code",
   "execution_count": 1,
   "metadata": {},
   "outputs": [],
   "source": [
    "import numpy as np\n",
    "from matplotlib import pyplot as plt\n",
    "%matplotlib inline\n",
    "from sklearn.base import BaseEstimator\n",
    "from sklearn.datasets import make_classification, make_regression, load_digits, load_boston\n",
    "from sklearn.model_selection import train_test_split, GridSearchCV\n",
    "from sklearn.metrics import accuracy_score, mean_squared_error"
   ]
  },
  {
   "cell_type": "markdown",
   "metadata": {
    "collapsed": true
   },
   "source": [
    "**Необходимо реализовать класс `DecisionTree`**\n",
    "\n",
    "**Спецификация:**\n",
    "- класс наследуется от `sklearn.BaseEstimator`;\n",
    "- конструктор содержит следующие параметры: \n",
    "    `max_depth` - максимальная глубина дерева (по умолчанию - `numpy.inf`); \n",
    "    `min_samples_split` - минимальное число объектов в вершине, при котором происходит её разбиение (по умолчанию - 2); \n",
    "    `criterion` - критерий разбиения (для классификации - 'gini' или 'entropy', для регрессии - 'variance' или 'mad_median'; \n",
    "    по умолчанию - 'gini');\n",
    "    \n",
    "    Функционал, значение которого максимизируется для поиска оптимального разбиения в данной вершине имеет вид\n",
    "    $$Q(X, j, t) = F(X) - \\dfrac{|X_l|}{|X|} F(X_l) - \\dfrac{|X_r|}{|X|} F(X_r),$$\n",
    "    где $X$ - выборка, находящаяся в текущей вершине, $X_l$ и $X_r$ - разбиение выборки $X$ на две части \n",
    "    по предикату $[x_j < t]$, а $F(X)$ -критерий разбиения.\n",
    "    \n",
    "    Для классификации: пусть $p_i$ - доля объектов $i$-го класса в выборке $X$.\n",
    "    \n",
    "    'gini': Неопределенность Джини $F(X) = 1 -\\sum_{i = 1}^K p_i^2$.\n",
    "    \n",
    "    'entropy': Энтропия $F(X) = -\\sum_{i = 1}^K p_i \\log_2(p_i)$.\n",
    "    \n",
    "    Для регрессии: $y_j = y(x_j)$ - ответ на объекте $x_j$, $y = (y_1, \\dots, y_{|X|})$ - вектор ответов.\n",
    "    \n",
    "    'variance': Дисперсия (среднее квадратичное отклонение от среднего) $F(X) = \\dfrac{1}{|X|} \\sum_{x_j \\in X}(y_j - \\dfrac{1}{|X|}\\sum_{x_i \\in X}y_i)^2$\n",
    "    \n",
    "    'mad_median': Среднее отклонение от медианы $F(X) = \\dfrac{1}{|X|} \\sum_{x_j \\in X}|y_j - \\mathrm{med}(y)|$\n",
    "    \n",
    "- класс имеет методы `fit`, `predict` и `predict_proba`;\n",
    "- метод `fit` принимает матрицу объектов `X` и вектор ответов `y` (объекты `numpy.ndarray`) и возвращает экземпляр класса\n",
    "    `DecisionTree`, представляющий собой решающее дерево, обученное по выборке `(X, y)` с учётом заданных в конструкторе параметров; \n",
    "- метод `predict_proba` принимает матрицу объектов `X` и возвращает матрицу `P` размера `X.shape[0] x K`, где `K` - число классов, такую что $p_{ij}$ есть вероятность принадлежности объекта, заданного $i$-ой строкой матрицы X к классу $j \\in \\{1, \\dots, K\\}$.\n",
    "- метод `predict` принимает матрицу объектов и возвращает вектор предсказанных ответов; в случае классификации - это \n",
    "    наиболее многочисленный класс в листе, в который попал объект, а в случае регрессии - среднее значение ответов по \n",
    "    всем объектам этого листа;"
   ]
  },
  {
   "cell_type": "code",
   "execution_count": 2,
   "metadata": {},
   "outputs": [],
   "source": [
    "from collections import Counter\n",
    "\n",
    "#def entropy(y):\n",
    "#    return -sum(x/len(y) * np.log2(x/len(y)) for x in Counter(y).values())\n",
    "\n",
    "#def gini(y):\n",
    "#    return 1 - sum((x / len(y)) ** 2 for x in Counter(y).values())\n",
    "\n",
    "def entropy(y):    \n",
    "    p = [len(y[y == k]) / len(y) for k in np.unique(y)]\n",
    "    return -np.dot(p, np.log2(p))\n",
    "\n",
    "def gini(y):\n",
    "    p = [len(y[y == k]) / len(y) for k in np.unique(y)]\n",
    "    return 1 - np.dot(p, p)\n",
    "\n",
    "def variance(y):\n",
    "    return np.var(y)\n",
    "    #return sum([(x - sum(y) / len(y))**2 for x in y])/len(y)\n",
    "\n",
    "def mad_median(y):\n",
    "    return sum([abs(x - np.median(y)) for x in y])/len(y)"
   ]
  },
  {
   "cell_type": "code",
   "execution_count": 3,
   "metadata": {},
   "outputs": [],
   "source": [
    "class TreeNode:\n",
    "    def __init__(self, col=-1, value=None, results=None, left=None, right=None, is_leaf=False):\n",
    "        self.col = col\n",
    "        self.value = value\n",
    "        self.results = results\n",
    "        self.left = left\n",
    "        self.right = right\n",
    "        self.is_leaf = is_leaf\n",
    "\n",
    "def divide(X, y, col, value):\n",
    "    return (\n",
    "        X[X[:,col] < value],\n",
    "        X[X[:,col] >= value],\n",
    "        y[X[:,col] < value],\n",
    "        y[X[:,col] >= value]\n",
    "    )\n"
   ]
  },
  {
   "cell_type": "code",
   "execution_count": 4,
   "metadata": {},
   "outputs": [],
   "source": [
    "class DecisionTree(BaseEstimator):\n",
    "    \n",
    "    def __init__(self, max_depth=np.inf, min_samples_split=2, \n",
    "                 criterion='gini', debug=False):\n",
    "        BaseEstimator.__init__(self)\n",
    "        self.max_depth = max_depth\n",
    "        self.min_samples_split = min_samples_split\n",
    "        self.criterion = criterion\n",
    "        self.debug = debug\n",
    "    \n",
    "    def build_tree(self, X, y, depth = 0):\n",
    "        if depth >= self.max_depth or len(set(y)) == 1:\n",
    "            return TreeNode(results=y, is_leaf=True)\n",
    "        else:\n",
    "            F = self.F\n",
    "            best_g = 0\n",
    "            best_col = None\n",
    "            best_value = None\n",
    "            best_sets = None\n",
    "            Fy = F(y)\n",
    "            for col in range(X.shape[1]):\n",
    "                for value in list(set(X[:,col])):\n",
    "                    Xl,Xr,yl,yr = divide(X, y, col, value)\n",
    "                    if yl.shape[0] < self.min_samples_split or yr.shape[0] < self.min_samples_split:\n",
    "                        continue\n",
    "                    p = yl.shape[0]/y.shape[0]\n",
    "                    g = Fy - p * F(yl) - (1 - p) * F(yr)\n",
    "                    if g > best_g:\n",
    "                        best_g = g\n",
    "                        best_col, best_value = col, value\n",
    "                        best_sets = (Xl, Xr, yl, yr)\n",
    "            if best_g > 0:\n",
    "                leftbranch = self.build_tree(best_sets[0], best_sets[2], depth + 1)\n",
    "                rightbranch = self.build_tree(best_sets[1], best_sets[3], depth + 1)\n",
    "                return TreeNode(col = best_col, value = best_value, left=leftbranch, right=rightbranch)\n",
    "            else:\n",
    "                return TreeNode(results=y, is_leaf=True)\n",
    "\n",
    "    def fit(self, X, y):\n",
    "        self.F = {'gini':gini,\n",
    "                         'entropy':entropy,\n",
    "                         'variance':variance,\n",
    "                         'mad_median':mad_median\n",
    "                        }.get(self.criterion, 'gini')\n",
    "        self.tree = self.build_tree(X, y)\n",
    "        self.nclasses = np.unique(y)\n",
    "        return self\n",
    "        \n",
    "    def find_predict(self, X, tree):\n",
    "        if tree.is_leaf:\n",
    "            return tree.results\n",
    "        else:\n",
    "            branch = None\n",
    "            if X[tree.col] < tree.value:\n",
    "                branch = tree.left\n",
    "            else:\n",
    "                branch = tree.right\n",
    "        return self.find_predict(X,branch)\n",
    "            \n",
    "    def predict(self, X):\n",
    "        res = np.zeros(X.shape[0])\n",
    "        for i in range(X.shape[0]):\n",
    "            y = self.find_predict(X[i], self.tree)\n",
    "            if self.criterion in ['gini','entropy']:\n",
    "                res[i] = np.argmax(np.bincount(y))\n",
    "            else:\n",
    "                res[i] = np.mean(y)\n",
    "        return res\n",
    "        \n",
    "    def predict_proba(self, X, indent=''):\n",
    "        res = np.zeros([X.shape[0], len(self.nclasses)])\n",
    "        for i in range(X.shape[0]):\n",
    "            y = self.find_predict(X[i], self.tree)\n",
    "            res[i] = np.bincount(y, minlength=len(self.nclasses)) / y.shape[0]\n",
    "        return res\n",
    "    \n",
    "    def print_tree(self, tree=None, indent=''):\n",
    "        if tree == None:\n",
    "            tree = self.tree\n",
    "        if tree.is_leaf:\n",
    "            print(tree.results)\n",
    "        else:\n",
    "            print(\"Column {} : {}?\".format(tree.col, tree.value))\n",
    "            \n",
    "            print(indent,'True->'),\n",
    "            self.print_tree(tree.left,indent+'  ')\n",
    "            print(indent,'False->'),\n",
    "            self.print_tree(tree.right,indent+'  ')"
   ]
  },
  {
   "cell_type": "code",
   "execution_count": null,
   "metadata": {
    "scrolled": true
   },
   "outputs": [],
   "source": []
  },
  {
   "cell_type": "markdown",
   "metadata": {},
   "source": [
    "## Тестирование реализованного алгоритма"
   ]
  },
  {
   "cell_type": "markdown",
   "metadata": {},
   "source": [
    "### Классификация"
   ]
  },
  {
   "cell_type": "markdown",
   "metadata": {},
   "source": [
    "С помощью метода `load_digits` загрузите датасет `digits`. Разделите выборку на обучающую и тестовую с помощью метода `train_test_split`, используйте значения параметров `test_size=0.2`, `random_state=17`. Попробуйте обучить неглубокие решающие деревья и убедитесь, что критерии gini и entropy дают разные результаты."
   ]
  },
  {
   "cell_type": "code",
   "execution_count": 5,
   "metadata": {},
   "outputs": [],
   "source": [
    "X, y = load_digits(return_X_y=True)\n",
    "X_train, X_valid, y_train, y_valid = train_test_split(X, y, test_size=0.2, random_state=11)"
   ]
  },
  {
   "cell_type": "code",
   "execution_count": 6,
   "metadata": {
    "scrolled": true
   },
   "outputs": [
    {
     "name": "stdout",
     "output_type": "stream",
     "text": [
      "Column 36 : 1.0?\n",
      " True->\n",
      "Column 42 : 6.0?\n",
      "   True->\n",
      "[9 9 9 9 9 5 9 9 9 5 5 9 9 9 5 9 5 5 9 9 5 5 9 9 3 9 5 5 9 5 9 9 9 5 9 9 9\n",
      " 9 5 9 9 5 9 9 9 9 9 9 9 9 9 5 9 5 9 9 9 9 9 9 2 9]\n",
      "   False->\n",
      "[0 0 0 0 0 0 0 0 0 0 0 0 0 0 0 0 0 0 0 0 0 0 0 5 0 0 0 0 0 0 0 0 0 0 0 0 0\n",
      " 0 0 0 0 0 9 0 4 0 0 0 0 0 0 0 2 0 0 0 0 0 0 0 0 5 0 6 0 0 0 0 0 4 0 0 0 0\n",
      " 0 0 0 0 0 5 0 0 0 0 0 0 0 0 0 0 0 6 0 0 2 0 5 5 0 0 0 0 0 0 0 0 0 0 0 4 0\n",
      " 0 0 8 6 0 6 0 0 0 4 0 0 0 0 0 0 0 0 0 0 0 0 6 0 5 0 0 0 0 0 0 0 0 0 0 0 0\n",
      " 0 0 0 0 0 0 0 0 0 0]\n",
      " False->\n",
      "Column 21 : 1.0?\n",
      "   True->\n",
      "[4 5 6 6 5 1 6 5 6 6 2 5 5 5 2 6 6 6 6 6 4 5 5 5 6 5 1 1 2 1 5 6 6 6 2 3 5\n",
      " 6 5 6 6 6 6 5 6 5 6 5 4 5 6 5 6 5 6 5 6 3 1 6 5 2 2 5 6 1 4 1 6 5 5 6 5 5\n",
      " 2 1 5 2 5 6 7 5 1 5 4 1 6 5 5 5 5 1 5 6 6 4 4 5 5 1 5 6 6 5 5 5 6 6 5 1 5\n",
      " 1 5 5 6 4 5 6 3 1 8 6 6 6 7 4 3 1 2 3 5 5 5 5 2 5 6 4 6 6 5 5 6 6 6 3 1 5\n",
      " 5 5 5 3 6 2 5 6 6 6 6 5 5 2 1 1 6 5 5 6 4 2 6 2 5 4 6 4 6 8 1 6 5 2 6 6 6\n",
      " 6 6 6 5 5 5 1 5 2 6 1 1 1 5 6 5 9 5 5 6 5 6 2 5 6 6 4 4 5 6 5 6 5 6 6 2 6\n",
      " 1 6 1 5 2 2 1 6 4 6 6 1 6 6 6 5 5 5 6 6 5 5 2 6 6 6 5 3 6 6 6 5 6 2 6 4 5\n",
      " 6 6 5 5 6 6 5 6 6 6 6 6 1 5 5 5 4 3 5 1 5 1 3 5 5 2 2 6 5 4 1 6 4 6 5 6 4\n",
      " 5 2 5 6 6 6 5 6 6 6 6 6 6 6 6 6 5 2 6 6 6 5 1 6 5 2 6 7 4 2 6 2 5 1 6 5 2\n",
      " 6 5 1 4 5 4 5 2 5 2 4 5 4 6 6 6 6 6 6 6 6 4 5 6 6 5 6 5 1 6 5 4 5 6 5 6 5\n",
      " 1 2 5 4 5 5 6 6 5 6]\n",
      "   False->\n",
      "[7 4 2 4 2 3 4 2 7 2 2 8 2 8 6 1 8 7 1 1 7 2 7 8 2 4 8 9 8 4 4 9 8 2 1 2 3\n",
      " 8 7 5 9 7 7 7 8 2 8 4 9 1 3 2 2 7 8 9 4 3 2 4 3 4 1 3 9 1 7 3 1 7 8 8 7 1\n",
      " 4 4 8 1 3 3 3 4 9 8 7 8 8 1 2 2 2 1 9 2 4 7 9 3 3 5 7 9 7 3 4 8 3 8 8 3 3\n",
      " 2 9 3 9 1 2 2 7 3 4 1 1 8 1 4 1 4 2 9 4 3 8 4 9 1 9 1 7 8 8 3 8 1 3 3 7 4\n",
      " 5 8 2 8 3 1 8 1 9 4 2 2 8 9 9 3 7 8 4 3 7 9 9 2 3 4 9 4 4 7 4 7 4 2 9 2 7\n",
      " 1 3 4 7 8 7 4 2 2 9 4 4 1 1 8 3 3 7 4 1 3 4 3 7 8 3 8 9 3 3 3 8 4 8 7 4 3\n",
      " 3 1 9 8 1 3 8 8 1 2 1 1 7 1 3 4 8 4 4 8 1 8 3 8 9 8 7 4 3 2 2 7 8 1 7 2 7\n",
      " 8 2 1 2 8 8 4 7 7 8 3 5 3 2 9 8 7 7 7 9 7 3 8 8 9 8 9 8 1 7 7 4 4 7 3 2 3\n",
      " 4 7 7 4 3 4 5 4 4 6 7 7 7 2 4 5 2 2 3 8 3 4 2 3 8 3 1 8 3 1 9 9 8 7 3 4 7\n",
      " 1 8 7 1 1 9 7 1 9 1 4 2 8 9 4 7 7 8 4 2 1 4 8 4 8 2 7 7 2 9 1 8 8 1 7 8 2\n",
      " 7 8 8 0 3 9 3 1 7 2 8 7 3 1 7 8 4 9 1 7 2 4 1 4 5 7 4 2 1 1 4 9 8 5 4 9 7\n",
      " 7 7 4 1 4 8 9 2 4 2 3 7 3 9 2 8 7 4 3 3 1 2 9 7 7 4 7 9 3 7 9 1 7 9 2 1 8\n",
      " 3 4 9 7 8 7 3 1 2 9 3 2 2 3 8 5 8 1 8 7 2 9 4 2 2 7 2 3 8 4 1 7 7 8 4 2 7\n",
      " 3 7 7 3 2 1 8 4 3 4 1 2 1 2 3 2 3 2 7 4 2 2 2 8 1 7 7 2 1 2 9 2 8 7 9 8 7\n",
      " 9 2 7 7 3 9 9 3 4 3 9 9 7 4 1 9 9 2 3 7 4 2 9 3 1 7 3 1 7 2 1 3 4 1 9 9 3\n",
      " 3 8 1 3 8 4 3 8 8 3 7 2 5 6 1 3 8 3 1 2 9 7 8 1 7 7 4 3 1 3 3 7 9 9 8 4 4\n",
      " 7 8 2 3 7 2 1 9 3 3 8 4 1 7 1 3 7 9 8 7 2 8 4 4 3 3 7 8 1 7 1 8 2 4 1 3 3\n",
      " 3 4 2 7 8 3 3 1 2 8 7 1 8 1 4 7 7 1 7 8 3 3 3 7 2 9 3 8 7 7 8 9 9 8 4 1 8\n",
      " 7 8 7 7 2 2 4 9 2 8 3 9 2 1 1 4 9 3 3 8 8 1 9 1 7 9 8 9 9 3 3 8 7 3 3 1 8\n",
      " 9 3 2 8 7 2 3 1 4 9 3 3 7 7 8 8 1 3 2 2 7 9 8 9 8 7 8 1 9 7 2 9 9 8 1 3 1\n",
      " 1 9 9 7 7 3 8 4 1 9 3 3 7 4 3 4 7 1 8 4 3 4 9 9 4 2 7 1 7 8 1 9 8 2 4 9 7\n",
      " 4 1 2 7 8 9 5 3 4 8 1 3 8 8 8 7 9 4 9 8 7 7 9 1 1 1 1 3 8 4 8 9 7 2 4 7 3\n",
      " 8 3 8 8 7 8 9 3 3 1 7 8 2 3 4 4 3 1 4 9 8 2 3]\n"
     ]
    }
   ],
   "source": [
    "tree = DecisionTree(max_depth=2, criterion=\"gini\", debug=False)\n",
    "tree.fit(X_train, y_train)\n",
    "tree.print_tree()"
   ]
  },
  {
   "cell_type": "code",
   "execution_count": 7,
   "metadata": {},
   "outputs": [
    {
     "data": {
      "text/plain": [
       "0.3"
      ]
     },
     "execution_count": 7,
     "metadata": {},
     "output_type": "execute_result"
    }
   ],
   "source": [
    "accuracy_score(y_valid, tree.predict(X_valid))"
   ]
  },
  {
   "cell_type": "code",
   "execution_count": 8,
   "metadata": {},
   "outputs": [
    {
     "data": {
      "text/plain": [
       "array([0, 1, 2, 3, 4, 5, 6, 7, 8, 9])"
      ]
     },
     "execution_count": 8,
     "metadata": {},
     "output_type": "execute_result"
    }
   ],
   "source": [
    "tree.nclasses"
   ]
  },
  {
   "cell_type": "code",
   "execution_count": 9,
   "metadata": {
    "scrolled": true
   },
   "outputs": [
    {
     "data": {
      "text/plain": [
       "0.3416666666666667"
      ]
     },
     "execution_count": 9,
     "metadata": {},
     "output_type": "execute_result"
    }
   ],
   "source": [
    "tree_entropy = DecisionTree(max_depth=2, criterion=\"entropy\", debug=False)\n",
    "tree_entropy.fit(X_train, y_train)\n",
    "accuracy_score(y_valid, tree_entropy.predict(X_valid))"
   ]
  },
  {
   "cell_type": "markdown",
   "metadata": {},
   "source": [
    "С помощью 5-кратной кросс-валидации (`GridSearchCV`) подберите оптимальное значение параметров `max_depth` и `criterion`. Для параметра `max_depth` используйте диапазон значений - range(3, 11), а для criterion - {'gini', 'entropy'}. Критерий качества `scoring`='accuracy'."
   ]
  },
  {
   "cell_type": "code",
   "execution_count": 10,
   "metadata": {
    "scrolled": true
   },
   "outputs": [
    {
     "name": "stdout",
     "output_type": "stream",
     "text": [
      "Fitting 5 folds for each of 16 candidates, totalling 80 fits\n"
     ]
    },
    {
     "name": "stderr",
     "output_type": "stream",
     "text": [
      "[Parallel(n_jobs=-1)]: Done  42 tasks      | elapsed:   37.3s\n",
      "[Parallel(n_jobs=-1)]: Done  80 out of  80 | elapsed:  1.3min finished\n"
     ]
    },
    {
     "data": {
      "text/plain": [
       "GridSearchCV(cv=5, error_score='raise',\n",
       "       estimator=DecisionTree(criterion='gini', debug=False, max_depth=2, min_samples_split=2),\n",
       "       fit_params=None, iid=True, n_jobs=-1,\n",
       "       param_grid={'max_depth': [3, 4, 5, 6, 7, 8, 9, 10], 'criterion': ['gini', 'entropy']},\n",
       "       pre_dispatch='2*n_jobs', refit=True, return_train_score='warn',\n",
       "       scoring='accuracy', verbose=True)"
      ]
     },
     "execution_count": 10,
     "metadata": {},
     "output_type": "execute_result"
    }
   ],
   "source": [
    "tree_params = {'max_depth': list(range(3,11)), 'criterion':['gini', 'entropy']}\n",
    "tree_grid = GridSearchCV(tree, tree_params, cv=5, n_jobs=-1, verbose=True, scoring='accuracy')\n",
    "tree_grid.fit(X_train, y_train)"
   ]
  },
  {
   "cell_type": "code",
   "execution_count": 11,
   "metadata": {},
   "outputs": [
    {
     "name": "stdout",
     "output_type": "stream",
     "text": [
      "Fitting 5 folds for each of 16 candidates, totalling 80 fits\n"
     ]
    },
    {
     "name": "stderr",
     "output_type": "stream",
     "text": [
      "[Parallel(n_jobs=-1)]: Done  80 out of  80 | elapsed:    0.6s finished\n"
     ]
    },
    {
     "data": {
      "text/plain": [
       "GridSearchCV(cv=5, error_score='raise',\n",
       "       estimator=DecisionTreeClassifier(class_weight=None, criterion='entropy', max_depth=8,\n",
       "            max_features=None, max_leaf_nodes=None,\n",
       "            min_impurity_decrease=0.0, min_impurity_split=None,\n",
       "            min_samples_leaf=1, min_samples_split=2,\n",
       "            min_weight_fraction_leaf=0.0, presort=False, random_state=17,\n",
       "            splitter='best'),\n",
       "       fit_params=None, iid=True, n_jobs=-1,\n",
       "       param_grid={'max_depth': [3, 4, 5, 6, 7, 8, 9, 10], 'criterion': ['gini', 'entropy']},\n",
       "       pre_dispatch='2*n_jobs', refit=True, return_train_score='warn',\n",
       "       scoring='accuracy', verbose=True)"
      ]
     },
     "execution_count": 11,
     "metadata": {},
     "output_type": "execute_result"
    }
   ],
   "source": [
    "from sklearn.tree import DecisionTreeClassifier\n",
    "\n",
    "sk_tree = DecisionTreeClassifier(criterion='entropy', max_depth=8, random_state=17)\n",
    "sk_tree.fit(X_train,y_train)\n",
    "sk_tree_params = {'max_depth': list(range(3,11)), 'criterion':['gini', 'entropy']}\n",
    "sk_tree_grid = GridSearchCV(sk_tree, sk_tree_params, cv=5, n_jobs=-1, verbose=True, scoring='accuracy')\n",
    "sk_tree_grid.fit(X_train, y_train)"
   ]
  },
  {
   "cell_type": "code",
   "execution_count": 12,
   "metadata": {},
   "outputs": [
    {
     "data": {
      "image/png": "[encoded data removed]",
      "text/plain": [
       "<matplotlib.figure.Figure at 0x7f34e7a820b8>"
      ]
     },
     "metadata": {},
     "output_type": "display_data"
    }
   ],
   "source": [
    "sk_scores = sk_tree_grid.cv_results_['mean_test_score']\n",
    "plt.plot(sk_tree_params['max_depth'], sk_scores[:len(sk_scores)//2], label='sk gini', color='b');\n",
    "plt.plot(sk_tree_params['max_depth'], sk_scores[len(sk_scores)//2:], label='sk entropy', color='r');\n",
    "scores = tree_grid.cv_results_['mean_test_score']\n",
    "plt.plot(tree_params['max_depth'], scores[:len(scores)//2], label='gini', color='b');\n",
    "plt.plot(tree_params['max_depth'], scores[len(scores)//2:], label='entropy', color='r');\n",
    "\n",
    "plt.xlabel(\"max_depth\")\n",
    "plt.ylabel(\"score\");\n",
    "plt.legend();"
   ]
  },
  {
   "cell_type": "code",
   "execution_count": 13,
   "metadata": {},
   "outputs": [
    {
     "data": {
      "text/plain": [
       "{'criterion': 'entropy', 'max_depth': 9}"
      ]
     },
     "execution_count": 13,
     "metadata": {},
     "output_type": "execute_result"
    }
   ],
   "source": [
    "sk_tree_grid.best_params_"
   ]
  },
  {
   "cell_type": "markdown",
   "metadata": {},
   "source": [
    "Постройте графики средних значений критерия качества `accuracy` для критериев `gini` и `entropy` в зависимости от `max_depth`."
   ]
  },
  {
   "cell_type": "code",
   "execution_count": 14,
   "metadata": {
    "scrolled": true
   },
   "outputs": [
    {
     "data": {
      "image/png": "[encoded data removed]",
      "text/plain": [
       "<matplotlib.figure.Figure at 0x7f3518566390>"
      ]
     },
     "metadata": {},
     "output_type": "display_data"
    }
   ],
   "source": [
    "scores = tree_grid.cv_results_['mean_test_score']\n",
    "plt.plot(tree_params['max_depth'], scores[:len(scores)//2], label='gini', color='b');\n",
    "plt.plot(tree_params['max_depth'], scores[len(scores)//2:], label='entropy', color='r');\n",
    "plt.xlabel(\"max_depth\")\n",
    "plt.ylabel(\"score\");\n",
    "plt.legend();"
   ]
  },
  {
   "cell_type": "markdown",
   "metadata": {},
   "source": [
    "**Выберите верные утверждения:**\n",
    "1. Оптимальное значение max_depth для каждого критерия достигается внутри отрезка [3, 10] (то есть на отрезке [4, 9]).\n",
    "2. На отрезке [3, 10] построенные графики не пересекаются.\n",
    "3. На отрезке [3, 10] построенные графики пересекаются ровно один раз.\n",
    "4. Наилучшее качество при max_depth на интервале [3, 10] достигается на критерии gini.\n",
    "5. Хотя бы для одного из критериев значение accuracy строго возрастает с ростом значения max_depth на интервале [3, 10]."
   ]
  },
  {
   "cell_type": "code",
   "execution_count": 15,
   "metadata": {},
   "outputs": [
    {
     "data": {
      "text/plain": [
       "{'criterion': 'gini', 'max_depth': 10}"
      ]
     },
     "execution_count": 15,
     "metadata": {},
     "output_type": "execute_result"
    }
   ],
   "source": [
    "tree_grid.best_params_"
   ]
  },
  {
   "cell_type": "markdown",
   "metadata": {},
   "source": [
    "**Чему равны найденные оптимальные значения параметров max_depth и criterion?**\n",
    "1. max_depth = 4, criterion = 'gini';\n",
    "2. max_depth = 7, criterion = 'entropy';\n",
    "3. max_depth = 10, criterion = 'entropy';\n",
    "4. max_depth = 10, criterion = 'gini';\n",
    "5. max_depth = 3, criterion = 'entropy';\n",
    "6. max_depth = 9, criterion = 'gini';"
   ]
  },
  {
   "cell_type": "markdown",
   "metadata": {},
   "source": [
    "Используя найденные оптимальные значения max_depth и criterion, обучите решающее дерево на X_train, y_train и вычислите вероятности принадлежности к классам для X_test."
   ]
  },
  {
   "cell_type": "code",
   "execution_count": 23,
   "metadata": {
    "scrolled": true
   },
   "outputs": [
    {
     "name": "stdout",
     "output_type": "stream",
     "text": [
      "0.8277777777777777\n"
     ]
    },
    {
     "data": {
      "text/plain": [
       "array([0.09444444, 0.11079902, 0.09861111, 0.10811538, 0.11388889,\n",
       "       0.08855219, 0.08472222, 0.08231481, 0.10364598, 0.11490594])"
      ]
     },
     "execution_count": 23,
     "metadata": {},
     "output_type": "execute_result"
    }
   ],
   "source": [
    "tree_best = DecisionTree(max_depth=10, criterion='gini')\n",
    "tree_best.fit(X_train, y_train)\n",
    "print(accuracy_score(y_valid, tree_best.predict(X_valid)))\n",
    "arr = tree_best.predict_proba(X_valid)\n",
    "np.mean(arr, axis=0)"
   ]
  },
  {
   "cell_type": "code",
   "execution_count": null,
   "metadata": {},
   "outputs": [],
   "source": []
  },
  {
   "cell_type": "markdown",
   "metadata": {},
   "source": [
    "Для полученной матрицы вычислите усредненные по всем объектам из `X_test` значения вероятностей принадлежности к классам."
   ]
  },
  {
   "cell_type": "code",
   "execution_count": null,
   "metadata": {},
   "outputs": [],
   "source": []
  },
  {
   "cell_type": "markdown",
   "metadata": {},
   "source": [
    "**Вопрос:** Чему равна максимальная вероятность в полученном векторе?\n",
    "1. 0.11218791\n",
    "2. 0.11783761\n",
    "3. 1.0\n",
    "4. 0.0875"
   ]
  },
  {
   "cell_type": "markdown",
   "metadata": {},
   "source": [
    "### Регрессия"
   ]
  },
  {
   "cell_type": "markdown",
   "metadata": {},
   "source": [
    "С помощью метода `load_boston` загрузите датасет `boston`. Разделите выборку на обучающую и тестовую с помощью метода `train_test_split`, используйте значения параметров `test_size=0.2`, `random_state=17`. Попробуйте обучить неглубокие регрессионные деревья и убедитесь, что критерии `variance` и `mad_median` дают разные результаты."
   ]
  },
  {
   "cell_type": "code",
   "execution_count": 17,
   "metadata": {},
   "outputs": [],
   "source": [
    "Xb, yb = load_boston(return_X_y=True)\n",
    "Xb_train, Xb_valid, yb_train, yb_valid = train_test_split(Xb, yb, test_size=0.2, random_state=11)"
   ]
  },
  {
   "cell_type": "code",
   "execution_count": 18,
   "metadata": {},
   "outputs": [
    {
     "name": "stdout",
     "output_type": "stream",
     "text": [
      "Column 5 : 6.98?\n",
      " True->\n",
      "Column 12 : 14.43?\n",
      "   True->\n",
      "Column 7 : 1.5106?\n",
      "     True->\n",
      "Column 0 : 8.26725?\n",
      "       True->\n",
      "[50. 50.]\n",
      "       False->\n",
      "[50.  27.9]\n",
      "     False->\n",
      "Column 5 : 6.546?\n",
      "       True->\n",
      "[21.  19.6 18.2 24.4 24.7 20.2 20.1 20.6 24.1 14.5 23.8 19.9 24.6 23.\n",
      " 25.  23.7 20.3 26.4 20.4 23.1 20.6 20.9 18.9 23.6 21.5 24.8 18.6 24.3\n",
      " 18.4 22.6 24.1 24.8 17.1 25.  19.2 19.5 25.2 23.  22.1 19.3 20.8 19.\n",
      " 24.3 21.7 17.5 19.7 23.3 22.7 22.2 20.9 24.4 22.6 19.6 22.7 18.6 23.7\n",
      " 18.3 21.2 22.5 16.1 20.  24.  21.6 20.5 20.  20.4 23.3 21.4 22.8 21.2\n",
      " 19.3 16.2 22.9 19.4 24.6 24.4 17.2 19.5 19.8 28.7 19.6 26.4 21.2 22.\n",
      " 20.1 24.3 19.4 28.1 18.2 25.3 20.  23.4 21.2 15.3 19.9 20.4 21.9 18.9\n",
      " 20.6 21.8 21.9 25.  23.9 23.8 23.5 20.1 25.  22.9 23.1 20.8 23.1 29.6\n",
      " 23.  17.6 23.2 19.3 20.6 24.7 23.9 18.2 22.8 21.4 19.9 16.1 21.7 20.2\n",
      " 24.7 20.8 22.6 11.9 20.7 27.  18.5 19.3 17.4 25.  19.6 21.6 22.2 36.2\n",
      " 24.5 23.8 21.1 16.8 23.2 21.4 20.3 22.2 19.1 23.  22.  20.6 21.  19.8\n",
      " 23.2 22.9 20.6 21.7 19.4 20.7 18.5 22. ]\n",
      "       False->\n",
      "[29.8 28.5 26.5 26.6 23.9 23.3 29.  24.5 29.4 32.4 28.7 33.1 35.4 26.6\n",
      " 24.1 31.2 28.4 32.5 21.  28.6 28.2 35.1 25.  27.1 41.3 29.1 28.4 24.\n",
      " 26.2 31.1 30.1 27.5 23.9 22.8 27.5 23.8 23.7 29.6 32.  32.  29.9 30.1\n",
      " 24.8 23.9 25.1 22.  28.  30.5]\n",
      "   False->\n",
      "Column 4 : 0.659?\n",
      "     True->\n",
      "Column 10 : 20.1?\n",
      "       True->\n",
      "[17.5 21.7 19.7 17.4 19.4 18.8 21.7 19.3 15.7 18.9 22.4 21.5 16.5 22.5\n",
      " 18.8 17.8 20.3 19.8 20.5 16.6 20.  23.1 24.4 15.  20.4 23.1 14.4 18.5\n",
      " 21.4]\n",
      "       False->\n",
      "[17.1 20.1 12.  14.6 15.2 18.9 19.5 15.6 17.9 19.5 13.9 15.2 19.  12.7\n",
      " 15.6 10.2 16.2 13.3 19.9 14.5 13.2 13.6 14.1 17.5 11.7 19.1 16.7 16.3\n",
      " 13.8 14.4 18.4 14.8 13.3 17.2 14.5 19.1 17.2 19.1 14.  13.5 19.4 27.5]\n",
      "     False->\n",
      "Column 0 : 9.91655?\n",
      "       True->\n",
      "[12.1  8.5 11.8 15.6 11.  13.3 17.7 13.  12.7 14.9 16.1 16.4 17.  14.2\n",
      " 14.1 13.4 14.9 15.1 14.3 13.1 14.6 13.1 18.4 15.4 12.5 17.8 17.8 20.\n",
      " 14.1 13.4 17.1 16.8 13.8 12.8]\n",
      "       False->\n",
      "[ 6.3 13.9 13.4  8.8 10.5  5.  10.5  8.4  7.4 11.9  8.3  7.2 12.6  8.8\n",
      " 12.7  7.  10.2  7.2  8.3  9.6  8.7  5.  10.9 13.8 11.7 10.4 13.8  9.7\n",
      "  7.2 10.2  7.5]\n",
      " False->\n",
      "Column 5 : 7.454?\n",
      "   True->\n",
      "Column 7 : 2.0788?\n",
      "     True->\n",
      "[36.5 50. ]\n",
      "     False->\n",
      "Column 0 : 5.73116?\n",
      "       True->\n",
      "[32.9 35.4 33.3 37.2 37.3 30.7 34.6 34.7 30.3 33.2 37.9 36.1 29.8 33.4\n",
      " 32.7 33.8 29.  33.  33.4 34.9 33.1 31.6 31.  28.7 36.4 31.7]\n",
      "       False->\n",
      "[17.8 25. ]\n",
      "   False->\n",
      "Column 10 : 18.0?\n",
      "     True->\n",
      "Column 12 : 7.26?\n",
      "       True->\n",
      "[50.  50.  46.7 42.3 48.5 50.  50.  48.8 50.  48.3 44.  37.6 50.  50.\n",
      " 44.8 50.  45.4 50. ]\n",
      "       False->\n",
      "[39.8 43.1]\n",
      "     False->\n",
      "Column 6 : 51.8?\n",
      "       True->\n",
      "[43.8 42.8]\n",
      "       False->\n",
      "[38.7 35.2]\n"
     ]
    }
   ],
   "source": [
    "tree_b = DecisionTree(max_depth=4, criterion=\"variance\", debug=False)\n",
    "tree_b.fit(Xb_train, yb_train)\n",
    "tree_b.predict(Xb_valid)\n",
    "tree_b.print_tree()"
   ]
  },
  {
   "cell_type": "code",
   "execution_count": 19,
   "metadata": {},
   "outputs": [
    {
     "data": {
      "text/plain": [
       "array([21.59691358, 16.17380952, 28.04583333, 50.        ,  9.57741935,\n",
       "       14.61176471, 21.59691358,  9.57741935, 47.57777778, 21.59691358,\n",
       "       19.55517241, 16.17380952, 21.59691358, 21.59691358,  9.57741935,\n",
       "       16.17380952, 33.42962963, 33.42962963, 21.59691358, 14.61176471,\n",
       "       21.59691358, 33.42962963, 47.57777778, 28.04583333, 16.17380952,\n",
       "       14.61176471, 16.17380952, 16.17380952, 28.04583333, 21.59691358,\n",
       "        9.57741935,  9.57741935, 14.61176471,  9.57741935, 21.59691358,\n",
       "       21.59691358, 21.59691358, 21.59691358, 14.61176471, 28.04583333,\n",
       "       28.04583333, 28.04583333, 28.04583333, 14.61176471, 21.59691358,\n",
       "       21.59691358, 21.59691358, 28.04583333,  9.57741935, 21.59691358,\n",
       "       21.59691358, 36.95      , 21.59691358, 28.04583333, 47.57777778,\n",
       "       33.42962963, 33.42962963, 19.55517241, 21.59691358, 14.61176471,\n",
       "       19.55517241, 28.04583333, 14.61176471, 21.59691358, 21.59691358,\n",
       "        9.57741935, 14.61176471, 14.61176471, 28.04583333, 41.45      ,\n",
       "       33.42962963, 27.9       , 14.61176471, 14.61176471, 16.17380952,\n",
       "       28.04583333, 33.42962963, 14.61176471, 28.04583333, 21.59691358,\n",
       "       16.17380952, 21.59691358, 47.57777778, 21.59691358, 16.17380952,\n",
       "       16.17380952, 16.17380952, 50.        , 19.55517241,  9.57741935,\n",
       "       21.59691358, 21.59691358, 21.59691358, 16.17380952, 21.59691358,\n",
       "       28.04583333, 21.59691358, 21.59691358, 19.55517241, 21.59691358,\n",
       "       21.59691358, 19.55517241])"
      ]
     },
     "execution_count": 19,
     "metadata": {},
     "output_type": "execute_result"
    }
   ],
   "source": [
    "from sklearn.tree import DecisionTreeRegressor\n",
    "\n",
    "tree_sk = DecisionTreeRegressor(criterion='mse', max_depth=4, random_state=17)\n",
    "tree_sk.fit(Xb_train, yb_train)\n",
    "tree_sk.predict(Xb_valid)\n"
   ]
  },
  {
   "cell_type": "code",
   "execution_count": null,
   "metadata": {},
   "outputs": [],
   "source": []
  },
  {
   "cell_type": "code",
   "execution_count": null,
   "metadata": {},
   "outputs": [],
   "source": [
    "tree_b_mad = DecisionTree(max_depth=4, criterion=\"mad_median\", debug=False)\n",
    "tree_b_mad.fit(Xb_train, yb_train)\n",
    "tree_b_mad.predict(Xb_valid)"
   ]
  },
  {
   "cell_type": "markdown",
   "metadata": {},
   "source": [
    "С помощью 5-кратной кросс-валидации подберите оптимальное значение параметров `max_depth` и `criterion`. Для параметра `max_depth` используйте диапазон значений - `range(2, 9)`, а для `criterion` - {'variance', 'mad_median'}. Критерий качества `scoring`='neg_mean_squared_error'."
   ]
  },
  {
   "cell_type": "code",
   "execution_count": null,
   "metadata": {},
   "outputs": [],
   "source": [
    "tree_b_params = {'max_depth': list(range(3,9)), 'criterion':['variance', 'mad_median']}\n",
    "tree_b_grid = GridSearchCV(tree_b, tree_b_params, cv=5, n_jobs=-1, verbose=True, scoring='neg_mean_squared_error')\n",
    "tree_b_grid.fit(Xb_train, yb_train)"
   ]
  },
  {
   "cell_type": "code",
   "execution_count": null,
   "metadata": {},
   "outputs": [],
   "source": [
    "DecisionTreeRegressor?"
   ]
  },
  {
   "cell_type": "code",
   "execution_count": null,
   "metadata": {},
   "outputs": [],
   "source": [
    "from sklearn.tree import DecisionTreeRegressor\n",
    "\n",
    "rsk_tree = DecisionTreeRegressor(criterion='mse', max_depth=4, random_state=17)\n",
    "rsk_tree.fit(Xb_train,yb_train)\n",
    "rsk_tree_params = {'max_depth': list(range(3,9))}\n",
    "rsk_tree_grid = GridSearchCV(rsk_tree, rsk_tree_params, cv=5, n_jobs=-1, verbose=True, scoring='neg_mean_squared_error')\n",
    "rsk_tree_grid.fit(Xb_train, yb_train)"
   ]
  },
  {
   "cell_type": "markdown",
   "metadata": {},
   "source": [
    "Постройте графики средних значений критерия качества `neg_mean_squared_error` для критериев `variance` и `mad_median` в зависимости от `max_depth`."
   ]
  },
  {
   "cell_type": "code",
   "execution_count": null,
   "metadata": {},
   "outputs": [],
   "source": [
    "scoresb = tree_b_grid.cv_results_['mean_test_score']\n",
    "rscoresb = rsk_tree_grid.cv_results_['mean_test_score']\n",
    "\n",
    "plt.plot(rsk_tree_params['max_depth'], rscoresb, label='mse', color='g');\n",
    "\n",
    "plt.plot(tree_b_params['max_depth'], scoresb[:len(scoresb)//2], label='variance', color='b');\n",
    "plt.plot(tree_b_params['max_depth'], scoresb[len(scoresb)//2:], label='mad_median', color='r');\n",
    "\n",
    "plt.xlabel(\"max_depth\")\n",
    "plt.ylabel(\"score\");\n",
    "plt.legend();"
   ]
  },
  {
   "cell_type": "markdown",
   "metadata": {},
   "source": [
    "**Выберите верные утверждения:**\n",
    "1. На отрезке [2, 8] построенные графики не пересекаются.\n",
    "2. На отрезке [2, 8] построенные графики пересекаются ровно один раз.\n",
    "3. Оптимальное значение max_depth для каждого из критериев достигается на границе отрезка [2, 8].\n",
    "4. Наилучшее качество при max_depth in range(2, 9) достигается на критерии variance.\n",
    "5. График качества ровно для одного из критериев имеет явно выраженный пик."
   ]
  },
  {
   "cell_type": "code",
   "execution_count": null,
   "metadata": {},
   "outputs": [],
   "source": [
    "tree_b_grid.best_params_"
   ]
  },
  {
   "cell_type": "markdown",
   "metadata": {},
   "source": [
    "**Чему равны найденные оптимальные значения параметров `max_depth` и `criterion`?**\n",
    "1. max_depth = 9, criterion = 'variance';\n",
    "2. max_depth = 5, criterion = 'mad_median';\n",
    "3. max_depth = 4, criterion = 'variance';\n",
    "4. max_depth = 2, criterion = 'mad_median';\n",
    "5. max_depth = 4, criterion = 'mad_median';\n",
    "6. max_depth = 8, criterion = 'variance';"
   ]
  }
 ],
 "metadata": {
  "kernelspec": {
   "display_name": "Python 3",
   "language": "python",
   "name": "python3"
  },
  "language_info": {
   "codemirror_mode": {
    "name": "ipython",
    "version": 3
   },
   "file_extension": ".py",
   "mimetype": "text/x-python",
   "name": "python",
   "nbconvert_exporter": "python",
   "pygments_lexer": "ipython3",
   "version": "3.6.5"
  },
  "name": "lesson4_part2_Decision_trees.ipynb"
 },
 "nbformat": 4,
 "nbformat_minor": 1
}
